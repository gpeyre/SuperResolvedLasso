{
 "cells": [
  {
   "cell_type": "code",
   "execution_count": 6,
   "id": "25c6c9c8",
   "metadata": {},
   "outputs": [],
   "source": [
    "from context import continuous_BP as cbp\n",
    "from context import mmd as mmd\n",
    "from context import operators as myops\n",
    "from context import lasso as ls\n",
    "from context import helper"
   ]
  },
  {
   "cell_type": "code",
   "execution_count": 16,
   "id": "0594b192",
   "metadata": {},
   "outputs": [
    {
     "ename": "NameError",
     "evalue": "name '__file__' is not defined",
     "output_type": "error",
     "traceback": [
      "\u001b[0;31m---------------------------------------------------------------------------\u001b[0m",
      "\u001b[0;31mNameError\u001b[0m                                 Traceback (most recent call last)",
      "Cell \u001b[0;32mIn[16], line 8\u001b[0m\n\u001b[1;32m      6\u001b[0m \u001b[38;5;28;01mimport\u001b[39;00m \u001b[38;5;21;01mos\u001b[39;00m\n\u001b[1;32m      7\u001b[0m \u001b[38;5;28;01mimport\u001b[39;00m \u001b[38;5;21;01msys\u001b[39;00m\n\u001b[0;32m----> 8\u001b[0m sys\u001b[38;5;241m.\u001b[39mpath\u001b[38;5;241m.\u001b[39minsert(\u001b[38;5;241m0\u001b[39m, os\u001b[38;5;241m.\u001b[39mpath\u001b[38;5;241m.\u001b[39mabspath(os\u001b[38;5;241m.\u001b[39mpath\u001b[38;5;241m.\u001b[39mjoin(os\u001b[38;5;241m.\u001b[39mpath\u001b[38;5;241m.\u001b[39mdirname(\u001b[38;5;18;43m__file__\u001b[39;49m), \u001b[38;5;124m'\u001b[39m\u001b[38;5;124m../srlasso/\u001b[39m\u001b[38;5;124m'\u001b[39m)))\n\u001b[1;32m     10\u001b[0m \u001b[38;5;28;01mfrom\u001b[39;00m \u001b[38;5;21;01mcontext\u001b[39;00m \u001b[38;5;28;01mimport\u001b[39;00m continuous_BP \u001b[38;5;28;01mas\u001b[39;00m cbp\n\u001b[1;32m     11\u001b[0m \u001b[38;5;28;01mfrom\u001b[39;00m \u001b[38;5;21;01mcontext\u001b[39;00m \u001b[38;5;28;01mimport\u001b[39;00m mmd \u001b[38;5;28;01mas\u001b[39;00m mmd\n",
      "\u001b[0;31mNameError\u001b[0m: name '__file__' is not defined"
     ]
    }
   ],
   "source": [
    "# Import packages.\n",
    "import numpy as np\n",
    "import matplotlib.pyplot as plt\n",
    "import time\n",
    "\n",
    "from numpy import linspace\n",
    "from importlib import reload  # Python 3.4+\n",
    "reload(ls)\n",
    "reload(myops)\n",
    "reload(mmd)\n",
    "reload(cbp)"
   ]
  },
  {
   "cell_type": "code",
   "execution_count": 214,
   "id": "129abb3a-0d38-4a34-917a-ad639dc07115",
   "metadata": {
    "tags": []
   },
   "outputs": [],
   "source": [
    "#SR Lasso certificate\n",
    "\n",
    "def SRLasso_certificate(a0,shift,xgrid, tau, Phi, dPhi):\n",
    "    \n",
    "    def scaleAfun(x):\n",
    "        scaleA = 1/np.sqrt(np.sum(np.abs(dPhi(x))**2,axis=0))\n",
    "        return scaleA\n",
    "    \n",
    "    scaleA = scaleAfun(xgrid)\n",
    "    A0 = Phi(xgrid)\n",
    "    A1 = tau*scaleA[None,:]*dPhi(xgrid)\n",
    "    X_I = np.concatenate((A0, A1),1)\n",
    "    \n",
    "    b0 = -a0*shift/tau/scaleA\n",
    "    magnitude = np.sqrt(np.abs(a0)**2 + np.abs(b0)**2)\n",
    "    sgn = np.concatenate((a0/magnitude,b0/magnitude))\n",
    "    coeffs = X_I@ ( np.linalg.inv(np.conjugate(X_I.T)@X_I)@sgn )\n",
    "\n",
    "    eta = lambda x: np.conjugate(Phi(x).T) @coeffs\n",
    "    eta_d = lambda x: scaleAfun(x)*(np.conjugate(dPhi(x).T) @coeffs)\n",
    "    return lambda x: np.abs(eta(x))**2 + tau**2 * np.abs(eta_d(x))**2\n",
    "\n",
    "#CBP certificates\n",
    "def cBP_certificates(a0,h, Phi,dPhi,xgrid):\n",
    "    \n",
    "    X_I = np.concatenate((Phi(xgrid),dPhi(xgrid)),1)\n",
    "    sgn =  np.concatenate((np.ones(len(a0),),np.zeros(len(a0),)))\n",
    "    coeffs = X_I@(np.linalg.pinv(np.conjugate(X_I.T)@X_I)@sgn)\n",
    "    eta = lambda x: np.real( np.conjugate( Phi(x).T ) @coeffs )\n",
    "    eta_d = lambda x: np.real( np.conjugate( dPhi(x).T) @coeffs )\n",
    "    return lambda x: eta(x)+h/2*eta_d(x), lambda x: eta(x)-h/2*eta_d(x)\n",
    "\n"
   ]
  },
  {
   "cell_type": "code",
   "execution_count": 215,
   "id": "7de3516c-9de6-4c72-933d-c774a395001a",
   "metadata": {
    "tags": []
   },
   "outputs": [],
   "source": [
    "\n",
    "\n",
    "def getOperator(op):\n",
    "    if op == 'Fourier':\n",
    "        #Fourier\n",
    "        fq = 5\n",
    "\n",
    "        x0,x1=0,1\n",
    "        Phi, dPhi = myops.getFourierOp(fq)\n",
    "\n",
    "    elif op=='Gaussian':\n",
    "        #Gaussian\n",
    "        m = 20\n",
    "        sigma = 0.1\n",
    "        tvec = linspace(0,1,m)\n",
    "\n",
    "        x0,x1=0,1\n",
    "        Phi, dPhi = myops.getGaussianOp(tvec,sigma)\n",
    "    elif op=='Laplace':\n",
    "        #Laplace\n",
    "        T = 100\n",
    "        x0,x1=0,8\n",
    "        tvec = linspace(x0,x1,T)\n",
    "        \n",
    "        Phi, dPhi = myops.getLaplaceOp(tvec)\n",
    "    else:\n",
    "        print('Not defined!!')\n",
    "    xgrid = linspace(x0,x1,N)\n",
    "    return Phi,dPhi,xgrid\n",
    "\n"
   ]
  },
  {
   "cell_type": "code",
   "execution_count": 216,
   "id": "db28bc2d-276d-4e80-87f8-706b5c588cc4",
   "metadata": {
    "tags": []
   },
   "outputs": [],
   "source": [
    "plot = False\n",
    "op = 'Gaussian'\n",
    "#op = 'Fourier'\n",
    "#op = 'Laplace'\n",
    "\n",
    "certmax_srl = []\n",
    "certmax_cbp = []\n",
    "\n",
    "supp_srl = []\n",
    "supp_cbp = []\n",
    "Nvals = [10,15,20,25,30,35,40,45,50]\n",
    "\n",
    "Nvals = np.arange(10,50,2)\n",
    "for N in Nvals:\n",
    "#N= 30 #grid size\n",
    "    Phi, dPhi,xgrid = getOperator(op)\n",
    "    x0,x1 = min(xgrid),max(xgrid)\n",
    "    A = Phi(xgrid)\n",
    "    dA = dPhi(xgrid)\n",
    "    scaleA = 1/np.sqrt(np.sum(np.abs(dA)**2,axis=0))\n",
    "    h = xgrid[1]-xgrid[0]\n",
    "\n",
    "    # true support\n",
    "    I = np.array([int(N*0.4), int(N*.7)])\n",
    "    spacing = 0.2 #how far into the grid the spikes are\n",
    "    a0 = np.array([2,3])\n",
    "\n",
    "    #calculate the ground truth b_0\n",
    "    tau = 1\n",
    "    f0 = SRLasso_certificate(a0,spacing*h,xgrid[I], tau, Phi, dPhi)\n",
    "    fvec = f0(xgrid)\n",
    "    fvec[I] = 0\n",
    "    certmax_srl.append(np.max(fvec))\n",
    "    \n",
    "    #plot certificate on grid\n",
    "    if plot:\n",
    "        plt.plot([x0,x1], [1,1], 'k--')\n",
    "        xgrid_full = np.linspace(x0,x1,10000)\n",
    "        plt.plot(xgrid_full, f0(xgrid_full),'r')\n",
    "        plt.plot(xgrid, f0(xgrid),'rx',markersize=10)\n",
    "\n",
    "        plt.savefig('results/'+str(N)+op+'SRL_certificate.png', bbox_inches='tight',dpi=200, transparent=True)\n",
    "\n",
    "        plt.yticks([1])\n",
    "        plt.ylim([0.99,1.01])\n",
    "        plt.savefig('results/'+str(N)+op+'SRL_certificate_zoom.png', bbox_inches='tight',dpi=200, transparent=True)\n",
    "        plt.show()\n",
    "    \n",
    "    \n",
    "\n",
    "    #CPB certificate\n",
    "    g1,g2  = cBP_certificates(a0,h, Phi,dPhi,xgrid[I])\n",
    "    gvec = np.maximum(g1(xgrid),g2(xgrid))\n",
    "    gvec[I] = 0\n",
    "    certmax_cbp.append(np.max(gvec))\n",
    "    \n",
    "    if plot:\n",
    "        plt.plot([x0,x1], [1,1], 'k--')\n",
    "        xgrid_full = np.linspace(x0,x1,10000)\n",
    "        plt.plot(xgrid_full, g1(xgrid_full), 'r', markersize=10)\n",
    "        plt.plot(xgrid_full, g2(xgrid_full), 'b', markersize=10)\n",
    "        plt.plot(xgrid, g1(xgrid), 'rx', label=r'$\\eta+\\frac{h}{2} D\\eta$',markersize=10)\n",
    "        plt.plot(xgrid, g2(xgrid), 'bx', label=r'$\\eta-\\frac{h}{2} D\\eta$',markersize=10)\n",
    "        plt.legend( fontsize=\"16\")\n",
    "        plt.yticks([1])\n",
    "        plt.savefig('results/'+str(N)+op+'cbp_certificate.png', bbox_inches='tight',dpi=200, transparent=True)\n",
    "\n",
    "        plt.ylim([0.9,1.08])\n",
    "        plt.savefig('results/'+str(N)+op+'cbp_certificate_zoom.png', bbox_inches='tight',dpi=200, transparent=True)\n",
    "        plt.show()\n",
    "\n",
    "    \n",
    "    t0 = xgrid[I]+spacing*h\n",
    "\n",
    "    y_obs =  Phi(t0)@a0\n",
    "\n",
    "    tol=1e-2\n",
    "    alpha = 0.3\n",
    "    #cBP\n",
    "    a_cbp, shift_cbp= cbp.cBP_1D( A, dA, h, y_obs,alpha )\n",
    "    a_cbp, x_cbp = prune(a_cbp,shift_cbp + xgrid,tol)\n",
    "\n",
    "    #SR Lasso\n",
    "    a,shift = cbp.SRLasso(A, dA, y_obs,alpha,tau)\n",
    "    a, x = prune(a,  xgrid+shift ,tol)\n",
    "    \n",
    "    supp_srl.append(len(a))\n",
    "    supp_cbp.append(len(a_cbp))\n",
    "\n",
    "    if plot:\n",
    "        plt.plot(xgrid, 0*xgrid, 'kx')\n",
    "        markerline, stemline, baseline, = plt.stem(x,a, label='SR Lasso',  linefmt='c', markerfmt='cs', basefmt='c-')\n",
    "        plt.setp(stemline, linewidth = 1.25)\n",
    "        plt.setp(markerline, markersize = 14)\n",
    "\n",
    "        markerline, stemline, baseline, = plt.stem(x_cbp,a_cbp,label='cBP',  linefmt='k', markerfmt='kd', basefmt='k-')\n",
    "        plt.setp(stemline, linewidth = 1.25)\n",
    "        plt.setp(markerline, markersize = 12)\n",
    "\n",
    "\n",
    "        plt.stem(t0,a0,'r', label='Ground truth')\n",
    "\n",
    "        plt.legend(fontsize=16)\n",
    "\n",
    "        plt.savefig('results/'+str(N)+op+'rec', bbox_inches='tight',dpi=200, transparent=True)\n",
    "        plt.show()"
   ]
  },
  {
   "cell_type": "code",
   "execution_count": 217,
   "id": "4af94ad5-c323-4622-8762-cc4143dd2c04",
   "metadata": {
    "tags": []
   },
   "outputs": [
    {
     "name": "stdout",
     "output_type": "stream",
     "text": [
      "20 20\n"
     ]
    },
    {
     "data": {
      "image/png": "[encoded data removed]",
      "text/plain": [
       "<Figure size 640x480 with 1 Axes>"
      ]
     },
     "metadata": {},
     "output_type": "display_data"
    }
   ],
   "source": [
    "Nvals = np.array(Nvals)\n",
    "print(len(Nvals),len(certmax_srl))\n",
    "plt.plot(Nvals,certmax_cbp,'r',label='cBP')\n",
    "plt.plot(Nvals,certmax_srl,'b',label='SR Lasso')\n",
    "plt.legend(fontsize=16)\n",
    "plt.plot(Nvals,Nvals*0+1, 'k--')\n",
    "plt.yticks([1])\n",
    "plt.savefig('results/'+op+'certificate_vals.png', bbox_inches='tight',dpi=200, transparent=True)\n",
    "\n"
   ]
  },
  {
   "cell_type": "code",
   "execution_count": 218,
   "id": "4df902fa-62d2-445c-858e-812008511a97",
   "metadata": {
    "tags": []
   },
   "outputs": [
    {
     "data": {
      "text/plain": [
       "[<matplotlib.lines.Line2D at 0x154019890>]"
      ]
     },
     "execution_count": 218,
     "metadata": {},
     "output_type": "execute_result"
    },
    {
     "data": {
      "image/png": "[encoded data removed]",
      "text/plain": [
       "<Figure size 640x480 with 1 Axes>"
      ]
     },
     "metadata": {},
     "output_type": "display_data"
    }
   ],
   "source": [
    "plt.plot(Nvals,supp_cbp)\n",
    "plt.plot(Nvals,supp_srl)"
   ]
  },
  {
   "cell_type": "code",
   "execution_count": null,
   "id": "565eb0eb-85a2-488f-919e-731d821ea6cf",
   "metadata": {},
   "outputs": [],
   "source": []
  },
  {
   "cell_type": "code",
   "execution_count": null,
   "id": "08a06a69-686a-46ef-9dc6-5e1b352fe60b",
   "metadata": {},
   "outputs": [],
   "source": []
  }
 ],
 "metadata": {
  "kernelspec": {
   "display_name": "Python 3 (ipykernel)",
   "language": "python",
   "name": "python3"
  },
  "language_info": {
   "codemirror_mode": {
    "name": "ipython",
    "version": 3
   },
   "file_extension": ".py",
   "mimetype": "text/x-python",
   "name": "python",
   "nbconvert_exporter": "python",
   "pygments_lexer": "ipython3",
   "version": "3.10.8"
  }
 },
 "nbformat": 4,
 "nbformat_minor": 5
}
